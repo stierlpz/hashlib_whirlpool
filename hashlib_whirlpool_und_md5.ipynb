{
  "nbformat": 4,
  "nbformat_minor": 0,
  "metadata": {
    "colab": {
      "name": "hashlib - whirlpool und md5",
      "private_outputs": true,
      "provenance": [],
      "collapsed_sections": [],
      "authorship_tag": "ABX9TyPmhcJtX45I2nBvT3R3weTG",
      "include_colab_link": true
    },
    "kernelspec": {
      "name": "python3",
      "display_name": "Python 3"
    },
    "language_info": {
      "name": "python"
    }
  },
  "cells": [
    {
      "cell_type": "markdown",
      "metadata": {
        "id": "view-in-github",
        "colab_type": "text"
      },
      "source": [
        "<a href=\"https://colab.research.google.com/github/stierlpz/hashlib_whirlpool/blob/main/hashlib_whirlpool_und_md5.ipynb\" target=\"_parent\"><img src=\"https://colab.research.google.com/assets/colab-badge.svg\" alt=\"Open In Colab\"/></a>"
      ]
    },
    {
      "cell_type": "code",
      "metadata": {
        "id": "JK0MPIdhjIlS"
      },
      "source": [
        "\n",
        "import hashlib\n",
        "\n",
        "h=hashlib.new('whirlpool')\n",
        "h.update(b\"test\") ##<--Trage in den \" \" - Zeichen das Passwort ein!\n",
        "print(\"Hasheregebnis: \",h.hexdigest())\n"
      ],
      "execution_count": null,
      "outputs": []
    },
    {
      "cell_type": "code",
      "metadata": {
        "id": "xJvqEPeCIFWh"
      },
      "source": [
        "\n",
        "import hashlib\n",
        "\n",
        "h=hashlib.new('md5')\n",
        "\n",
        "\n",
        "h.update(b\"test\") ##<--Trage in den \" \" - Zeichen das Passwort ein!\n",
        "print(\"Hasheregebnis: \",h.hexdigest())\n"
      ],
      "execution_count": null,
      "outputs": []
    }
  ]
}